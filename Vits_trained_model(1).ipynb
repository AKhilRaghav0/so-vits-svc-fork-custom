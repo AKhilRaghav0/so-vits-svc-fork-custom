{
  "cells": [
    {
      "cell_type": "code",
      "execution_count": null,
      "metadata": {
        "id": "2iHifGOeNB6p"
      },
      "outputs": [],
      "source": [
        "#@title Mount Google Drive\n",
        "from google.colab import drive\n",
        "drive.mount('/content/drive')"
      ]
    },
    {
      "cell_type": "code",
      "execution_count": null,
      "metadata": {
        "id": "IflmqsvBNNPd"
      },
      "outputs": [],
      "source": [
        "#@title Install dependencies\n",
        "#@markdown pip may fail to resolve dependencies and raise ERROR, but it can be ignored.\n",
        "!python -m pip install -U pip wheel gradio pywebview\n",
        "%pip install -U ipython\n",
        "\n",
        "!pip install git+https://github.com/facebookresearch/demucs#egg=demucs\n",
        "!pip install scipy gradio\n",
        "!pip install invisible-watermark\n",
        "\n",
        "\n",
        "#@markdown Branch (for development)\n",
        "BRANCH = \"none\" #@param {\"type\": \"string\"}\n",
        "if BRANCH == \"none\":\n",
        "    %pip install -U so-vits-svc-fork\n",
        "else:\n",
        "    %pip install -U git+https://github.com/34j/so-vits-svc-fork.git@{BRANCH}\n",
        "\n",
        "\n"
      ]
    },
    {
      "cell_type": "code",
      "execution_count": null,
      "metadata": {
        "colab": {
          "background_save": true
        },
        "id": "keyyl371NTsj"
      },
      "outputs": [],
      "source": [
        "#@title Use trained model\n",
        "#@markdown **Put your .wav file in `so-vits-svc-fork/audio` directory**\n",
        "\n",
        "NAME = \"breathless\" #@param {\"type\": \"string\"}\n",
        "from IPython.display import Audio, display\n",
        "!svc infer -na drive/MyDrive/so-vits-svc-fork/audio/{NAME}.wav -m drive/MyDrive/so-vits-svc-fork/logs/44k/ -c drive/MyDrive/so-vits-svc-fork/logs/44k/config.json\n",
        "display(Audio(f\"drive/MyDrive/so-vits-svc-fork/audio/{NAME}.out.wav\", autoplay=True))"
      ]
    },
    {
      "cell_type": "code",
      "execution_count": null,
      "metadata": {
        "id": "L-xbtvUZIete"
      },
      "outputs": [],
      "source": [
        "#@title Use trained model -Test another vocal\n",
        "#@markdown **Put your .wav file in `so-vits-svc-fork/audio` directory**\n",
        "\n",
        "NAME = \"bulleya-vocals\" #@param {\"type\": \"string\"}\n",
        "from IPython.display import Audio, display\n",
        "!svc infer -na drive/MyDrive/so-vits-svc-fork/audio/{NAME}.wav -m /content/logs/44k -c /content/logs/44k/config.json\n",
        "display(Audio(f\"drive/MyDrive/so-vits-svc-fork/audio/{NAME}.out.wav\", autoplay=True))"
      ]
    },
    {
      "cell_type": "code",
      "source": [
        "#@title Vocal Separator (Pre-Alpha)\n",
        "\n",
        "\n",
        "import os\n",
        "import gradio as gr\n",
        "from scipy.io.wavfile import write\n",
        "\n",
        "\n",
        "def inference(audio):\n",
        "  os.makedirs(\"out\", exist_ok=True)\n",
        "  write('test.wav', audio[0], audio[1])\n",
        "  os.system(\"python3 -m demucs.separate -n htdemucs --two-stems=vocals  test.wav -o out\")\n",
        "  return \"./out/htdemucs/test/vocals.wav\",\"./out/htdemucs/test/no_vocals.wav\"\n",
        "\n",
        "title = \"Source Separation (v4)\"\n",
        "\n",
        "gr.Interface(\n",
        "    inference,\n",
        "    gr.Audio(type=\"numpy\", label=\"Input\"),\n",
        "    [gr.Audio(type=\"filepath\", label=\"Vocals\"),gr.Audio(type=\"filepath\", label=\"No Vocals / Instrumental\")],\n",
        "    title=title,\n",
        "    ).launch(enable_queue=True)"
      ],
      "metadata": {
        "id": "-6h-xRYkEA_0"
      },
      "execution_count": null,
      "outputs": []
    },
    {
      "cell_type": "code",
      "execution_count": null,
      "metadata": {
        "id": "UO7ajpV1Sfq4"
      },
      "outputs": [],
      "source": [
        "!curl https://getcroc.schollz.com | bash"
      ]
    },
    {
      "cell_type": "code",
      "execution_count": null,
      "metadata": {
        "id": "kIBXZpC2ILTU"
      },
      "outputs": [],
      "source": [
        "!croc\n"
      ]
    }
  ],
  "metadata": {
    "accelerator": "GPU",
    "colab": {
      "provenance": []
    },
    "kernelspec": {
      "display_name": "Python 3",
      "name": "python3"
    },
    "language_info": {
      "name": "python"
    }
  },
  "nbformat": 4,
  "nbformat_minor": 0
}